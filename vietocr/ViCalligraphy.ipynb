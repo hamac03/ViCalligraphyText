{
 "cells": [
  {
   "cell_type": "code",
   "execution_count": 1,
   "metadata": {},
   "outputs": [
    {
     "name": "stderr",
     "output_type": "stream",
     "text": [
      "/mlcv2/WorkingSpace/Personal/hamh/miniconda3/envs/VietOCR/lib/python3.10/site-packages/albumentations/__init__.py:24: UserWarning: A new version of Albumentations is available: 1.4.24 (you have 1.4.23). Upgrade using: pip install -U albumentations. To disable automatic update checks, set the environment variable NO_ALBUMENTATIONS_UPDATE to 1.\n",
      "  check_for_updates()\n"
     ]
    }
   ],
   "source": [
    "from vietocr.tool.config import Cfg\n",
    "from vietocr.model.trainer import Trainer"
   ]
  },
  {
   "cell_type": "code",
   "execution_count": 2,
   "metadata": {},
   "outputs": [],
   "source": [
    "config = Cfg.load_config_from_name('vgg_transformer')"
   ]
  },
  {
   "cell_type": "code",
   "execution_count": 3,
   "metadata": {},
   "outputs": [
    {
     "data": {
      "text/plain": [
       "'/mlcv2/WorkingSpace/Personal/hamh/Ha/Methods/vietocr'"
      ]
     },
     "execution_count": 3,
     "metadata": {},
     "output_type": "execute_result"
    }
   ],
   "source": [
    "pwd"
   ]
  },
  {
   "cell_type": "code",
   "execution_count": 4,
   "metadata": {},
   "outputs": [
    {
     "data": {
      "text/plain": [
       "{'vocab': 'aAàÀảẢãÃáÁạẠăĂằẰẳẲẵẴắẮặẶâÂầẦẩẨẫẪấẤậẬbBcCdDđĐeEèÈẻẺẽẼéÉẹẸêÊềỀểỂễỄếẾệỆfFgGhHiIìÌỉỈĩĨíÍịỊjJkKlLmMnNoOòÒỏỎõÕóÓọỌôÔồỒổỔỗỖốỐộỘơƠờỜởỞỡỠớỚợỢpPqQrRsStTuUùÙủỦũŨúÚụỤưƯừỪửỬữỮứỨựỰvVwWxXyYỳỲỷỶỹỸýÝỵỴzZ0123456789!\"#$%&\\'()*+,-./:;<=>?@[\\\\]^_`{|}~ ',\n",
       " 'device': 'cuda:0',\n",
       " 'seq_modeling': 'transformer',\n",
       " 'transformer': {'d_model': 256,\n",
       "  'nhead': 8,\n",
       "  'num_encoder_layers': 6,\n",
       "  'num_decoder_layers': 6,\n",
       "  'dim_feedforward': 2048,\n",
       "  'max_seq_length': 1024,\n",
       "  'pos_dropout': 0.1,\n",
       "  'trans_dropout': 0.1},\n",
       " 'optimizer': {'max_lr': 0.0003, 'pct_start': 0.1},\n",
       " 'trainer': {'batch_size': 32,\n",
       "  'print_every': 200,\n",
       "  'valid_every': 4000,\n",
       "  'iters': 100000,\n",
       "  'export': './weights/transformerocr.pth',\n",
       "  'checkpoint': './checkpoint/transformerocr_checkpoint.pth',\n",
       "  'log': './train.log',\n",
       "  'metrics': None},\n",
       " 'dataset': {'name': 'data',\n",
       "  'data_root': './img/',\n",
       "  'train_annotation': 'annotation_train.txt',\n",
       "  'valid_annotation': 'annotation_val_small.txt',\n",
       "  'image_height': 32,\n",
       "  'image_min_width': 32,\n",
       "  'image_max_width': 512},\n",
       " 'dataloader': {'num_workers': 3, 'pin_memory': True},\n",
       " 'aug': {'image_aug': True, 'masked_language_model': True},\n",
       " 'predictor': {'beamsearch': False},\n",
       " 'quiet': False,\n",
       " 'pretrain': 'https://vocr.vn/data/vietocr/vgg_transformer.pth',\n",
       " 'weights': 'https://vocr.vn/data/vietocr/vgg_transformer.pth',\n",
       " 'backbone': 'vgg19_bn',\n",
       " 'cnn': {'pretrained': True,\n",
       "  'ss': [[2, 2], [2, 2], [2, 1], [2, 1], [1, 1]],\n",
       "  'ks': [[2, 2], [2, 2], [2, 1], [2, 1], [1, 1]],\n",
       "  'hidden': 256}}"
      ]
     },
     "execution_count": 4,
     "metadata": {},
     "output_type": "execute_result"
    }
   ],
   "source": [
    "config"
   ]
  },
  {
   "cell_type": "code",
   "execution_count": 5,
   "metadata": {},
   "outputs": [
    {
     "data": {
      "text/plain": [
       "{'vocab': 'aAàÀảẢãÃáÁạẠăĂằẰẳẲẵẴắẮặẶâÂầẦẩẨẫẪấẤậẬbBcCdDđĐeEèÈẻẺẽẼéÉẹẸêÊềỀểỂễỄếẾệỆfFgGhHiIìÌỉỈĩĨíÍịỊjJkKlLmMnNoOòÒỏỎõÕóÓọỌôÔồỒổỔỗỖốỐộỘơƠờỜởỞỡỠớỚợỢpPqQrRsStTuUùÙủỦũŨúÚụỤưƯừỪửỬữỮứỨựỰvVwWxXyYỳỲỷỶỹỸýÝỵỴzZ0123456789!\"#$%&\\'()*+,-./:;<=>?@[\\\\]^_`{|}~ ',\n",
       " 'device': 'cuda:5',\n",
       " 'seq_modeling': 'transformer',\n",
       " 'transformer': {'d_model': 256,\n",
       "  'nhead': 8,\n",
       "  'num_encoder_layers': 6,\n",
       "  'num_decoder_layers': 6,\n",
       "  'dim_feedforward': 2048,\n",
       "  'max_seq_length': 1024,\n",
       "  'pos_dropout': 0.1,\n",
       "  'trans_dropout': 0.1},\n",
       " 'optimizer': {'max_lr': 0.0001, 'pct_start': 0.1},\n",
       " 'trainer': {'batch_size': 1,\n",
       "  'print_every': 5000,\n",
       "  'valid_every': 5000,\n",
       "  'iters': 29500,\n",
       "  'export': './weights/transformerocr.pth',\n",
       "  'checkpoint': './checkpoint/transformerocr_checkpoint.pth',\n",
       "  'log': './train.log',\n",
       "  'metrics': 10000},\n",
       " 'dataset': {'name': 'ViCalligraphy',\n",
       "  'data_root': '/mlcv2/WorkingSpace/Personal/hamh/Ha/Data/Vicalligraphy/ViCalligraphy/',\n",
       "  'train_annotation': '/mlcv2/WorkingSpace/Personal/hamh/Ha/Data/Vicalligraphy/ViCalligraphy/train_vietocr.txt',\n",
       "  'valid_annotation': '/mlcv2/WorkingSpace/Personal/hamh/Ha/Data/Vicalligraphy/ViCalligraphy/test_vietocr.txt',\n",
       "  'image_height': 32,\n",
       "  'image_min_width': 32,\n",
       "  'image_max_width': 512},\n",
       " 'dataloader': {'num_workers': 0, 'pin_memory': True},\n",
       " 'aug': {'image_aug': True, 'masked_language_model': True},\n",
       " 'predictor': {'beamsearch': False},\n",
       " 'quiet': False,\n",
       " 'pretrain': './weights/transformerocr.pth',\n",
       " 'weights': './weights/transformerocr.pth',\n",
       " 'backbone': 'vgg19_bn',\n",
       " 'cnn': {'pretrained': True,\n",
       "  'ss': [[2, 2], [2, 2], [2, 1], [2, 1], [1, 1]],\n",
       "  'ks': [[2, 2], [2, 2], [2, 1], [2, 1], [1, 1]],\n",
       "  'hidden': 256}}"
      ]
     },
     "execution_count": 5,
     "metadata": {},
     "output_type": "execute_result"
    }
   ],
   "source": [
    "dataset_params = {\n",
    "    'name':'ViCalligraphy',\n",
    "    'data_root':'/mlcv2/WorkingSpace/Personal/hamh/Ha/Data/Vicalligraphy/ViCalligraphy/',\n",
    "    'train_annotation':'/mlcv2/WorkingSpace/Personal/hamh/Ha/Data/Vicalligraphy/ViCalligraphy/train_vietocr.txt',\n",
    "    'valid_annotation':'/mlcv2/WorkingSpace/Personal/hamh/Ha/Data/Vicalligraphy/ViCalligraphy/test_vietocr.txt'\n",
    "}\n",
    "\n",
    "optimizer_params = {\n",
    "    'max_lr':0.0001\n",
    "}\n",
    "\n",
    "params = {\n",
    "          'batch_size': 1,\n",
    "         'print_every':5000,\n",
    "         'valid_every':5000,\n",
    "          'iters':29500,\n",
    "          'checkpoint':'./checkpoint/transformerocr_checkpoint.pth',\n",
    "          'export':'./weights/transformerocr.pth',\n",
    "          'metrics': 10000,\n",
    "          'log': './train.log'\n",
    "         }\n",
    "\n",
    "dataloader_params = {\n",
    "    'num_workers':0\n",
    "}\n",
    "\n",
    "config['trainer'].update(params)\n",
    "config['dataset'].update(dataset_params)\n",
    "config['optimizer'].update(optimizer_params)\n",
    "config['device'] = 'cuda:5'\n",
    "config['dataloader'].update(dataloader_params)\n",
    "config['pretrain']='./weights/transformerocr.pth'\n",
    "config['weights']='./weights/transformerocr.pth'\n",
    "config"
   ]
  },
  {
   "cell_type": "code",
   "execution_count": 6,
   "metadata": {},
   "outputs": [
    {
     "name": "stderr",
     "output_type": "stream",
     "text": [
      "/mlcv2/WorkingSpace/Personal/hamh/miniconda3/envs/VietOCR/lib/python3.10/site-packages/torch/nn/modules/transformer.py:307: UserWarning: enable_nested_tensor is True, but self.use_nested_tensor is False because encoder_layer.self_attn.batch_first was not True(use batch_first for better inference performance)\n",
      "  warnings.warn(f\"enable_nested_tensor is True, but self.use_nested_tensor is False because {why_not_sparsity_fast_path}\")\n",
      "/mlcv2/WorkingSpace/Personal/hamh/Ha/Methods/vietocr/vietocr/model/trainer.py:327: FutureWarning: You are using `torch.load` with `weights_only=False` (the current default value), which uses the default pickle module implicitly. It is possible to construct malicious pickle data which will execute arbitrary code during unpickling (See https://github.com/pytorch/pytorch/blob/main/SECURITY.md#untrusted-models for more details). In a future release, the default value for `weights_only` will be flipped to `True`. This limits the functions that could be executed during unpickling. Arbitrary objects will no longer be allowed to be loaded via this mode unless they are explicitly allowlisted by the user via `torch.serialization.add_safe_globals`. We recommend you start setting `weights_only=True` for any use case where you don't have full control of the loaded file. Please open an issue on GitHub for any issues related to this experimental feature.\n",
      "  state_dict = torch.load(filename, map_location=torch.device(self.device))\n"
     ]
    },
    {
     "name": "stdout",
     "output_type": "stream",
     "text": [
      "train_ViCalligraphy exists. Remove folder if you want to create new dataset\n"
     ]
    },
    {
     "name": "stderr",
     "output_type": "stream",
     "text": [
      "train_ViCalligraphy build cluster: 100%|███████████████████| 12430/12430 [00:00<00:00, 94695.54it/s]"
     ]
    },
    {
     "name": "stdout",
     "output_type": "stream",
     "text": [
      "valid_ViCalligraphy exists. Remove folder if you want to create new dataset\n"
     ]
    },
    {
     "name": "stderr",
     "output_type": "stream",
     "text": [
      "\n",
      "valid_ViCalligraphy build cluster: 100%|████████████████████| 3107/3107 [00:00<00:00, 113696.82it/s]\n"
     ]
    }
   ],
   "source": [
    "trainer = Trainer(config, pretrained=True)"
   ]
  },
  {
   "cell_type": "code",
   "execution_count": 8,
   "metadata": {},
   "outputs": [
    {
     "ename": "NameError",
     "evalue": "name 'trainer' is not defined",
     "output_type": "error",
     "traceback": [
      "\u001b[0;31m---------------------------------------------------------------------------\u001b[0m",
      "\u001b[0;31mNameError\u001b[0m                                 Traceback (most recent call last)",
      "\u001b[0;32m/tmp/ipykernel_762822/433765532.py\u001b[0m in \u001b[0;36m<module>\u001b[0;34m\u001b[0m\n\u001b[0;32m----> 1\u001b[0;31m \u001b[0mtrainer\u001b[0m\u001b[0;34m.\u001b[0m\u001b[0mvisualize_dataset\u001b[0m\u001b[0;34m(\u001b[0m\u001b[0;34m)\u001b[0m\u001b[0;34m\u001b[0m\u001b[0;34m\u001b[0m\u001b[0m\n\u001b[0m",
      "\u001b[0;31mNameError\u001b[0m: name 'trainer' is not defined"
     ]
    }
   ],
   "source": [
    "trainer.visualize_dataset()"
   ]
  },
  {
   "cell_type": "code",
   "execution_count": 12,
   "metadata": {},
   "outputs": [
    {
     "name": "stdout",
     "output_type": "stream",
     "text": [
      "iter: 005000 - train loss: 0.914 - lr: 9.85e-05 - load time: 781.68 - gpu time: 369.70\n",
      "iter: 005000 - valid loss: 0.774 - acc full seq: 0.6027 - acc per char: 0.7917\n",
      "iter: 010000 - train loss: 0.608 - lr: 8.36e-05 - load time: 813.05 - gpu time: 374.97\n",
      "iter: 010000 - valid loss: 0.793 - acc full seq: 0.6248 - acc per char: 0.8105\n",
      "iter: 015000 - train loss: 0.564 - lr: 5.72e-05 - load time: 800.64 - gpu time: 366.63\n",
      "iter: 015000 - valid loss: 0.794 - acc full seq: 0.6350 - acc per char: 0.8142\n",
      "iter: 020000 - train loss: 0.544 - lr: 2.84e-05 - load time: 802.30 - gpu time: 365.14\n",
      "iter: 020000 - valid loss: 0.788 - acc full seq: 0.6531 - acc per char: 0.8230\n",
      "iter: 025000 - train loss: 0.536 - lr: 6.92e-06 - load time: 806.68 - gpu time: 370.64\n",
      "iter: 025000 - valid loss: 0.780 - acc full seq: 0.6599 - acc per char: 0.8283\n"
     ]
    }
   ],
   "source": [
    "trainer.train()"
   ]
  },
  {
   "cell_type": "code",
   "execution_count": 7,
   "metadata": {},
   "outputs": [
    {
     "name": "stdout",
     "output_type": "stream",
     "text": [
      "3107\n",
      "Acc_full_seq: 0.6623752816221435\n",
      "Acc_per_char: 0.8292726278305054\n",
      "CER: 0.16229094646360834\n",
      "Time per image: 0.03144970698336677\n"
     ]
    }
   ],
   "source": [
    "acc_full_seq, acc_per_char, cer, time_per_image = trainer.precision()\n",
    "print(f\"Acc_full_seq: {acc_full_seq}\")\n",
    "print(f\"Acc_per_char: {acc_per_char}\")\n",
    "print(f\"CER: {cer}\")\n",
    "print(f\"Time per image: {time_per_image}\")"
   ]
  }
 ],
 "metadata": {
  "kernelspec": {
   "display_name": "VietOCR",
   "language": "python",
   "name": "python3"
  },
  "language_info": {
   "codemirror_mode": {
    "name": "ipython",
    "version": 3
   },
   "file_extension": ".py",
   "mimetype": "text/x-python",
   "name": "python",
   "nbconvert_exporter": "python",
   "pygments_lexer": "ipython3",
   "version": "3.10.16"
  }
 },
 "nbformat": 4,
 "nbformat_minor": 2
}
